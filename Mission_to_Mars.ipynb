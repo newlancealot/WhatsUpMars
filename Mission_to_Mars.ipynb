{
 "cells": [
  {
   "cell_type": "code",
   "execution_count": 1,
   "metadata": {
    "collapsed": true
   },
   "outputs": [],
   "source": [
    "import pandas as pd\n",
    "from bs4 import BeautifulSoup as bs\n",
    "from splinter import Browser\n",
    "#from splinter.exceptions import ElementDoesNotExist\n",
    "import requests\n",
    "import os\n",
    "import time"
   ]
  },
  {
   "cell_type": "code",
   "execution_count": 2,
   "metadata": {
    "collapsed": true
   },
   "outputs": [],
   "source": [
    "executable_path = {\"executable_path\": \"chromedriver.exe\"}\n",
    "browser = Browser(\"chrome\", **executable_path, headless=False)"
   ]
  },
  {
   "cell_type": "code",
   "execution_count": 3,
   "metadata": {
    "scrolled": true
   },
   "outputs": [
    {
     "name": "stdout",
     "output_type": "stream",
     "text": [
      "\n",
      "\n",
      "NASA Invests in Visionary Technology \n",
      "\n",
      "\n",
      "\n",
      "NASA is investing in technology concepts, including several from JPL, that may one day be used for future space exploration missions.\n",
      "\n"
     ]
    }
   ],
   "source": [
    "# Scaping NASA Mars SIte\n",
    "#########################################################\n",
    "#url = 'https://mars.nasa.gov/news/'\n",
    "url='https://mars.nasa.gov/news/?page=0&per_page=40&order=publish_date+desc%2Ccreated_at+desc&search=&category=19%2C165%2C184%2C204&blank_scope=Latest'\n",
    "\n",
    "\n",
    "response = requests.get(url)\n",
    "soup = bs(response.text, 'lxml')\n",
    "\n",
    "results = soup.find_all('ul', class_=\"item_list\")\n",
    "newsTitle =soup.find(\"div\", class_=\"content_title\").text\n",
    "articles =soup.find(\"div\",class_=\"image_and_description_container\")\n",
    "news_p=articles.find(\"div\", class_=\"rollover_description_inner\").text\n"
   ]
  },
  {
   "cell_type": "code",
   "execution_count": 6,
   "metadata": {},
   "outputs": [],
   "source": [
    "articles =soup.find(\"div\",class_=\"image_and_description_container\")\n",
    "teaser=articles.find(\"div\", class_=\"rollover_description_inner\").text"
   ]
  },
  {
   "cell_type": "code",
   "execution_count": 7,
   "metadata": {},
   "outputs": [
    {
     "name": "stdout",
     "output_type": "stream",
     "text": [
      "\n",
      "NASA is investing in technology concepts, including several from JPL, that may one day be used for future space exploration missions.\n",
      "\n"
     ]
    }
   ],
   "source": [
    "print(teaser)"
   ]
  },
  {
   "cell_type": "code",
   "execution_count": 8,
   "metadata": {
    "collapsed": true
   },
   "outputs": [],
   "source": [
    "#############JPL Image Scraping######################"
   ]
  },
  {
   "cell_type": "code",
   "execution_count": 9,
   "metadata": {},
   "outputs": [
    {
     "data": {
      "text/html": [
       "<img src=\"Mars_Featured.jpg\"/>"
      ],
      "text/plain": [
       "<IPython.core.display.Image object>"
      ]
     },
     "execution_count": 9,
     "metadata": {},
     "output_type": "execute_result"
    }
   ],
   "source": [
    "url_JPL='https://www.jpl.nasa.gov/spaceimages/?search=&category=Mars'\n",
    "response = requests.get(url_JPL)\n",
    "soup = bs(response.text, 'lxml')\n",
    "\n",
    "img_jpl = soup.find(\"img\", class_=\"thumb\")[\"src\"]\n",
    "featured_img_url=\"https://www.jpl.nasa.gov/\"+img_jpl\n",
    "#print(featured_img_url)\n",
    "\n",
    "#!!!!!!!!!!!!!!!!!!!additional depencies to save image to jpeg and print jpeg in workbook. \n",
    "import requests #Using the 'requests' library to convert url to jpeg\n",
    "\n",
    "img_data = requests.get(featured_img_url).content\n",
    "with open('Mars_Featured.jpg', 'wb') as handler:\n",
    "    handler.write(img_data)\n",
    "\n",
    "from IPython.display import Image\n",
    "Image(url='Mars_Featured.jpg')"
   ]
  },
  {
   "cell_type": "code",
   "execution_count": 12,
   "metadata": {},
   "outputs": [
    {
     "name": "stdout",
     "output_type": "stream",
     "text": [
      "https://www.jpl.nasa.gov//spaceimages/images/wallpaper/PIA22390-640x350.jpg\n"
     ]
    }
   ],
   "source": [
    "img_jpl = soup.find(\"img\", class_=\"thumb\")[\"src\"]\n",
    "featured_img_url=\"https://www.jpl.nasa.gov/\"+img_jpl\n",
    "print(featured_img_url)"
   ]
  },
  {
   "cell_type": "code",
   "execution_count": 13,
   "metadata": {
    "collapsed": true
   },
   "outputs": [],
   "source": [
    "#######################Twitter Weather########################"
   ]
  },
  {
   "cell_type": "code",
   "execution_count": 14,
   "metadata": {
    "collapsed": true
   },
   "outputs": [],
   "source": [
    "#!!!!!!!!!!!!!!!!!!!!Making Request\n",
    "url_Tweet='https://twitter.com/marswxreport?lang=en'\n",
    "response = requests.get(url_Tweet)\n",
    "soup = bs(response.text, 'lxml')\n",
    "\n",
    "wTweet_jpl = soup.find(\"div\", class_=\"js-tweet-text-container\")\n",
    "mars_Weather=wTweet_jpl.find('p').text\n"
   ]
  },
  {
   "cell_type": "code",
   "execution_count": 15,
   "metadata": {
    "collapsed": true
   },
   "outputs": [],
   "source": [
    "###################Using Pandas to scrape Facts"
   ]
  },
  {
   "cell_type": "code",
   "execution_count": 16,
   "metadata": {},
   "outputs": [
    {
     "name": "stdout",
     "output_type": "stream",
     "text": [
      "<table border=\"1\" class=\"dataframe\">  <thead>    <tr style=\"text-align: right;\">      <th></th>      <th>Data</th>    </tr>    <tr>      <th>Mars Feature</th>      <th></th>    </tr>  </thead>  <tbody>    <tr>      <th>Equatorial Diameter:</th>      <td>6,792 km</td>    </tr>    <tr>      <th>Polar Diameter:</th>      <td>6,752 km</td>    </tr>    <tr>      <th>Mass:</th>      <td>6.42 x 10^23 kg (10.7% Earth)</td>    </tr>    <tr>      <th>Moons:</th>      <td>2 (Phobos &amp; Deimos)</td>    </tr>    <tr>      <th>Orbit Distance:</th>      <td>227,943,824 km (1.52 AU)</td>    </tr>    <tr>      <th>Orbit Period:</th>      <td>687 days (1.9 years)</td>    </tr>    <tr>      <th>Surface Temperature:</th>      <td>-153 to 20 °C</td>    </tr>    <tr>      <th>First Record:</th>      <td>2nd millennium BC</td>    </tr>    <tr>      <th>Recorded By:</th>      <td>Egyptian astronomers</td>    </tr>  </tbody></table>\n"
     ]
    }
   ],
   "source": [
    "url = 'https://space-facts.com/mars/'\n",
    "\n",
    "#!!!!!!!!!!!!!!!!!!!Using Pandas to read in table directly\n",
    "marsTable = pd.read_html(url)\n",
    "df=marsTable[0]\n",
    "df.columns=['Mars Feature', 'Data']\n",
    "df.set_index('Mars Feature', inplace=True)\n",
    "df.to_html('mars_DataTable.html')\n",
    "mars_DataTable=df.to_html()\n",
    "mars_DataTable= mars_DataTable.replace('\\n', '') #Cleaning\n",
    "print(mars_DataTable)"
   ]
  },
  {
   "cell_type": "code",
   "execution_count": 17,
   "metadata": {
    "collapsed": true
   },
   "outputs": [],
   "source": [
    "# Scraping ... for Hemishphere information"
   ]
  },
  {
   "cell_type": "code",
   "execution_count": 18,
   "metadata": {
    "collapsed": true
   },
   "outputs": [],
   "source": [
    "url_ASC='https://astrogeology.usgs.gov/search/results?q=hemisphere+enhanced&k1=target&v1=Mars'\n",
    "response = requests.get(url_ASC)\n",
    "soup = bs(response.text, 'lxml')\n",
    "hemisphere_urls=[]                                   # list of image urls\n",
    "hemis = soup.find_all(\"div\", class_=\"description\")"
   ]
  },
  {
   "cell_type": "code",
   "execution_count": 20,
   "metadata": {},
   "outputs": [],
   "source": [
    "# Setting up splinter# Settin \n",
    "executable_path = {'executable_path':'./chromedriver'}\n",
    "browser = Browser('chrome', **executable_path, headless=False)\n",
    "browser.visit(url_ASC)\n",
    "\n",
    "# through pages\n",
    "time.sleep(5)\n",
    "browser.click_link_by_partial_text('Cerberus Hemisphere Enhanced')\n",
    "\n",
    "\n",
    "# BeautifulSoup object (parse with html.parser)\n",
    "html = browser.html\n",
    "soup = bs(html, 'html.parser')\n",
    "\n",
    "# Store link\n",
    "Cerberus_Hemisphere_link = soup.find('div', 'downloads').a['href']\n",
    "\n",
    "# Create dict\n",
    "Cerberus_Hemisphere = {\n",
    "    \"title\": \"Cerberus Hemisphere Enhanced\",\n",
    "    \"img_url\": Cerberus_Hemisphere_link\n",
    "}\n",
    "\n",
    "# Append dict\n",
    "hemisphere_urls.append(Cerberus_Hemisphere)"
   ]
  },
  {
   "cell_type": "code",
   "execution_count": null,
   "metadata": {
    "collapsed": true
   },
   "outputs": [],
   "source": []
  },
  {
   "cell_type": "code",
   "execution_count": 23,
   "metadata": {
    "scrolled": true
   },
   "outputs": [],
   "source": [
    "# Setting up splinter\n",
    "executable_path = {'executable_path':'./chromedriver'}\n",
    "browser = Browser('chrome', **executable_path, headless=False)\n",
    "browser.visit(url_ASC)\n",
    "\n",
    "# through pages\n",
    "time.sleep(5)\n",
    "browser.click_link_by_partial_text('Schiaparelli Hemisphere Enhanced')\n",
    "\n",
    "\n",
    "# BeautifulSoup object (parse with html.parser)\n",
    "html = browser.html\n",
    "soup = bs(html, 'html.parser')\n",
    "\n",
    "# Store link\n",
    "Schiaparelli_Hemisphere_link = soup.find('div', 'downloads').a['href']\n",
    "\n",
    "# Create dict\n",
    "Schiaparelli_Hemisphere = {\n",
    "    \"title\": \"Schiaparelli Hemisphere\",\n",
    "    \"img_url\": Schiaparelli_Hemisphere_link\n",
    "}\n",
    "\n",
    "# Append dict\n",
    "hemisphere_urls.append(Schiaparelli_Hemisphere_link)"
   ]
  },
  {
   "cell_type": "code",
   "execution_count": 24,
   "metadata": {
    "scrolled": true
   },
   "outputs": [],
   "source": [
    "# Setting up splinter\n",
    "executable_path = {'executable_path':'./chromedriver'}\n",
    "browser = Browser('chrome', **executable_path, headless=False)\n",
    "browser.visit(url_ASC)\n",
    "\n",
    "# through pages\n",
    "time.sleep(5)\n",
    "browser.click_link_by_partial_text('Syrtis Major Hemisphere Enhanced')\n",
    "\n",
    "\n",
    "# BeautifulSoup object (parse with html.parser)\n",
    "html = browser.html\n",
    "soup = bs(html, 'html.parser')\n",
    "\n",
    "# Store link\n",
    "Syrtis_Major_Hemisphere_link = soup.find('div', 'downloads').a['href']\n",
    "\n",
    "# Create dict\n",
    "Syrtis_Major_Hemisphere = {\n",
    "    \"title\": \"Syrtis Major Hemisphere\",\n",
    "    \"img_url\": Syrtis_Major_Hemisphere_link\n",
    "}\n",
    "\n",
    "# Append dict\n",
    "hemisphere_urls.append(Syrtis_Major_Hemisphere_link)"
   ]
  },
  {
   "cell_type": "code",
   "execution_count": null,
   "metadata": {},
   "outputs": [],
   "source": [
    "Syrtis_Major_Hemisphere"
   ]
  },
  {
   "cell_type": "code",
   "execution_count": 25,
   "metadata": {
    "collapsed": true,
    "scrolled": true
   },
   "outputs": [],
   "source": [
    "# Setting up splinter\n",
    "executable_path = {'executable_path':'./chromedriver'}\n",
    "browser = Browser('chrome', **executable_path, headless=False)\n",
    "browser.visit(url_ASC)\n",
    "\n",
    "# through pages\n",
    "time.sleep(5)\n",
    "browser.click_link_by_partial_text('Valles Marineris Hemisphere Enhanced')\n",
    "\n",
    "\n",
    "# BeautifulSoup object (parse with html.parser)\n",
    "html = browser.html\n",
    "soup = bs(html, 'html.parser')\n",
    "\n",
    "# Store link\n",
    "valles_link = soup.find('div', 'downloads').a['href']\n",
    "\n",
    "# Create dict\n",
    "valles_marineris = {\n",
    "    \"title\": \"Valles Marineris Hemisphere\",\n",
    "    \"img_url\": valles_link\n",
    "}\n",
    "\n",
    "# Append dict\n",
    "hemisphere_urls.append(valles_marineris)"
   ]
  },
  {
   "cell_type": "code",
   "execution_count": null,
   "metadata": {},
   "outputs": [],
   "source": [
    "valles_marineris"
   ]
  },
  {
   "cell_type": "code",
   "execution_count": 26,
   "metadata": {},
   "outputs": [
    {
     "data": {
      "text/plain": [
       "[{'img_url': 'http://astropedia.astrogeology.usgs.gov/download/Mars/Viking/cerberus_enhanced.tif/full.jpg',\n",
       "  'title': 'Cerberus Hemisphere Enhanced'},\n",
       " 'http://astropedia.astrogeology.usgs.gov/download/Mars/Viking/schiaparelli_enhanced.tif/full.jpg',\n",
       " 'http://astropedia.astrogeology.usgs.gov/download/Mars/Viking/syrtis_major_enhanced.tif/full.jpg',\n",
       " {'img_url': 'http://astropedia.astrogeology.usgs.gov/download/Mars/Viking/valles_marineris_enhanced.tif/full.jpg',\n",
       "  'title': 'Valles Marineris Hemisphere'}]"
      ]
     },
     "execution_count": 26,
     "metadata": {},
     "output_type": "execute_result"
    }
   ],
   "source": [
    "hemisphere_urls"
   ]
  },
  {
   "cell_type": "code",
   "execution_count": null,
   "metadata": {
    "collapsed": true
   },
   "outputs": [],
   "source": []
  }
 ],
 "metadata": {
  "kernelspec": {
   "display_name": "Python 3",
   "language": "python",
   "name": "python3"
  },
  "language_info": {
   "codemirror_mode": {
    "name": "ipython",
    "version": 3
   },
   "file_extension": ".py",
   "mimetype": "text/x-python",
   "name": "python",
   "nbconvert_exporter": "python",
   "pygments_lexer": "ipython3",
   "version": "3.6.3"
  }
 },
 "nbformat": 4,
 "nbformat_minor": 2
}
